{
 "cells": [
  {
   "cell_type": "code",
   "execution_count": 16,
   "metadata": {},
   "outputs": [],
   "source": [
    "import pandas as pd\n",
    "import pdfplumber\n",
    "import re\n",
    "from glob import glob\n",
    "\n",
    "directory = r\"C:\\Users\\jmo\\Documents\\qosina_items\"\n",
    "files = glob(directory + \"/*.pdf\")\n",
    "\n",
    "# print(files)\n",
    "items = {}\n",
    "\n",
    "f = re.compile(r\"^\\d\\d\\d\")\n",
    "\n",
    "for file in files:\n",
    "    with pdfplumber.open(file) as pdf:\n",
    "        first_page = pdf.pages[0]\n",
    "        text = first_page.extract_text()\n",
    "        text = {y.split(\" \")[0]: y.split(\" \")[1] for y in [x for x in text.split(\"\\n\") if f.match(x) and len(x) > 50]}\n",
    "        for key, value in text.items():\n",
    "            if key not in items:\n",
    "                items[key] = value\n",
    "        \n",
    "    \n",
    "\n"
   ]
  },
  {
   "cell_type": "code",
   "execution_count": 17,
   "metadata": {},
   "outputs": [
    {
     "name": "stdout",
     "output_type": "stream",
     "text": [
      "{'599': '12135', '5100': '221211', '2996': '32002', '6500': '11116', '6455-NT': 'S65651', '6530': '11115', '2986': '32001', '7590': '16075', '5120': '25657', '146': '32029', '5190': '61519', '385': '72971', '6452-NT': 'S65648', '6453-NT': 'S65649', '2920': '32008', '6480': 'S47896', '145': '32010', '2179': 'S47896', '6451-NT': 'S65647', '5130': '22100', '6454-NT': 'S65650', '6450': 'S47898'}\n"
     ]
    }
   ],
   "source": [
    "print(items)\n"
   ]
  },
  {
   "cell_type": "code",
   "execution_count": 21,
   "metadata": {},
   "outputs": [],
   "source": [
    "df = pd.DataFrame(items.items(), columns=[\"Item\", \"Vendor Item\"])\n",
    "\n",
    "df.to_html(\"qosina_items.html\", index=False)"
   ]
  }
 ],
 "metadata": {
  "interpreter": {
   "hash": "12263dba4bd199aa6419997208e4282f34755f1b3733c487b34a9cd4b4d97c68"
  },
  "kernelspec": {
   "display_name": "Python 3.10.0 64-bit (system)",
   "language": "python",
   "name": "python3"
  },
  "language_info": {
   "codemirror_mode": {
    "name": "ipython",
    "version": 3
   },
   "file_extension": ".py",
   "mimetype": "text/x-python",
   "name": "python",
   "nbconvert_exporter": "python",
   "pygments_lexer": "ipython3",
   "version": "3.10.0"
  },
  "orig_nbformat": 4
 },
 "nbformat": 4,
 "nbformat_minor": 2
}
